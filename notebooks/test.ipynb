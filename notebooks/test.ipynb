{
 "cells": [
  {
   "cell_type": "code",
   "execution_count": 1,
   "id": "d475a3a5-6e74-4f39-9f3c-c0a8d90c4256",
   "metadata": {},
   "outputs": [
    {
     "name": "stdout",
     "output_type": "stream",
     "text": [
      "pkgs/main/win-64          \n",
      "pkgs/r/win-64             \n",
      "pkgs/main/noarch          \n",
      "pkgs/msys2/win-64         \n",
      "pkgs/r/noarch             \n",
      "pkgs/msys2/noarch         \n",
      "Transaction\n",
      "\n",
      "  Prefix: C:\\Users\\Martin\\Miniconda3\\envs\\jl-pyij\n",
      "\n",
      "  Updating specs:\n",
      "\n",
      "   - pyimagej\n",
      "   - openjdk=8\n",
      "   - ca-certificates\n",
      "   - certifi\n",
      "   - openssl\n",
      "\n",
      "\n",
      "  Package               Version  Build           Channel                Size\n",
      "------------------------------------------------------------------------------\n",
      "  Change:\n",
      "------------------------------------------------------------------------------\n",
      "\n",
      "  - certifi           2022.9.24  pyhd8ed1ab_0    installed                  \n",
      "  + certifi           2022.9.24  py38haa95532_0  pkgs/main/win-64     Cached\n",
      "\n",
      "  Upgrade:\n",
      "------------------------------------------------------------------------------\n",
      "\n",
      "  - ca-certificates   2022.9.24  h5b45459_0      installed                  \n",
      "  + ca-certificates  2022.10.11  haa95532_0      pkgs/main/win-64     Cached\n",
      "\n",
      "  Summary:\n",
      "\n",
      "  Change: 1 packages\n",
      "  Upgrade: 1 packages\n",
      "\n",
      "  Total download: 0  B\n",
      "\n",
      "------------------------------------------------------------------------------\n",
      "\n",
      "\n",
      "                  __    __    __    __\n",
      "                 /  \\  /  \\  /  \\  /  \\\n",
      "                /    \\/    \\/    \\/    \\\n",
      "â–ˆâ–ˆâ–ˆâ–ˆâ–ˆâ–ˆâ–ˆâ–ˆâ–ˆâ–ˆâ–ˆâ–ˆâ–ˆâ–ˆâ–ˆ/  /â–ˆâ–ˆ/  /â–ˆâ–ˆ/  /â–ˆâ–ˆ/  /â–ˆâ–ˆâ–ˆâ–ˆâ–ˆâ–ˆâ–ˆâ–ˆâ–ˆâ–ˆâ–ˆâ–ˆâ–ˆâ–ˆâ–ˆâ–ˆâ–ˆâ–ˆâ–ˆâ–ˆâ–ˆâ–ˆâ–ˆâ–ˆ\n",
      "              /  / \\   / \\   / \\   / \\  \\____\n",
      "             /  /   \\_/   \\_/   \\_/   \\    o \\__,\n",
      "            / _/                       \\_____/  `\n",
      "            |/\n",
      "        â–ˆâ–ˆâ–ˆâ•—   â–ˆâ–ˆâ–ˆâ•— â–ˆâ–ˆâ–ˆâ–ˆâ–ˆâ•— â–ˆâ–ˆâ–ˆâ•—   â–ˆâ–ˆâ–ˆâ•—â–ˆâ–ˆâ–ˆâ–ˆâ–ˆâ–ˆâ•—  â–ˆâ–ˆâ–ˆâ–ˆâ–ˆâ•—\n",
      "        â–ˆâ–ˆâ–ˆâ–ˆâ•— â–ˆâ–ˆâ–ˆâ–ˆâ•‘â–ˆâ–ˆâ•”â•�â•�â–ˆâ–ˆâ•—â–ˆâ–ˆâ–ˆâ–ˆâ•— â–ˆâ–ˆâ–ˆâ–ˆâ•‘â–ˆâ–ˆâ•”â•�â•�â–ˆâ–ˆâ•—â–ˆâ–ˆâ•”â•�â•�â–ˆâ–ˆâ•—\n",
      "        â–ˆâ–ˆâ•”â–ˆâ–ˆâ–ˆâ–ˆâ•”â–ˆâ–ˆâ•‘â–ˆâ–ˆâ–ˆâ–ˆâ–ˆâ–ˆâ–ˆâ•‘â–ˆâ–ˆâ•”â–ˆâ–ˆâ–ˆâ–ˆâ•”â–ˆâ–ˆâ•‘â–ˆâ–ˆâ–ˆâ–ˆâ–ˆâ–ˆâ•”â•�â–ˆâ–ˆâ–ˆâ–ˆâ–ˆâ–ˆâ–ˆâ•‘\n",
      "        â–ˆâ–ˆâ•‘â•šâ–ˆâ–ˆâ•”â•�â–ˆâ–ˆâ•‘â–ˆâ–ˆâ•”â•�â•�â–ˆâ–ˆâ•‘â–ˆâ–ˆâ•‘â•šâ–ˆâ–ˆâ•”â•�â–ˆâ–ˆâ•‘â–ˆâ–ˆâ•”â•�â•�â–ˆâ–ˆâ•—â–ˆâ–ˆâ•”â•�â•�â–ˆâ–ˆâ•‘\n",
      "        â–ˆâ–ˆâ•‘ â•šâ•�â•� â–ˆâ–ˆâ•‘â–ˆâ–ˆâ•‘  â–ˆâ–ˆâ•‘â–ˆâ–ˆâ•‘ â•šâ•�â•� â–ˆâ–ˆâ•‘â–ˆâ–ˆâ–ˆâ–ˆâ–ˆâ–ˆâ•”â•�â–ˆâ–ˆâ•‘  â–ˆâ–ˆâ•‘\n",
      "        â•šâ•�â•�     â•šâ•�â•�â•šâ•�â•�  â•šâ•�â•�â•šâ•�â•�     â•šâ•�â•�â•šâ•�â•�â•�â•�â•�â•� â•šâ•�â•�  â•šâ•�â•�\n",
      "\n",
      "        mamba (0.15.3) supported by @QuantStack\n",
      "\n",
      "        GitHub:  https://github.com/mamba-org/mamba\n",
      "        Twitter: https://twitter.com/QuantStack\n",
      "\n",
      "â–ˆâ–ˆâ–ˆâ–ˆâ–ˆâ–ˆâ–ˆâ–ˆâ–ˆâ–ˆâ–ˆâ–ˆâ–ˆâ–ˆâ–ˆâ–ˆâ–ˆâ–ˆâ–ˆâ–ˆâ–ˆâ–ˆâ–ˆâ–ˆâ–ˆâ–ˆâ–ˆâ–ˆâ–ˆâ–ˆâ–ˆâ–ˆâ–ˆâ–ˆâ–ˆâ–ˆâ–ˆâ–ˆâ–ˆâ–ˆâ–ˆâ–ˆâ–ˆâ–ˆâ–ˆâ–ˆâ–ˆâ–ˆâ–ˆâ–ˆâ–ˆâ–ˆâ–ˆâ–ˆâ–ˆâ–ˆâ–ˆâ–ˆâ–ˆâ–ˆâ–ˆ\n",
      "\n",
      "\n",
      "Looking for: ['pyimagej', 'openjdk=8']\n",
      "\n",
      "\n",
      "Pinned packages:\n",
      "  - python 3.8.*\n",
      "\n",
      "\n",
      "Preparing transaction: ...working... done\n",
      "Verifying transaction: ...working... done\n",
      "Executing transaction: ...working... done\n",
      "\n",
      "C:\\Users\\Martin\\Documents\\GitHub\\pyimagej-julab\\notebooks>set \"JAVA_HOME=\" \n",
      "\n",
      "C:\\Users\\Martin\\Documents\\GitHub\\pyimagej-julab\\notebooks>set \"JAVA_HOME_CONDA_BACKUP=\" \n",
      "\n",
      "C:\\Users\\Martin\\Documents\\GitHub\\pyimagej-julab\\notebooks>set \"JAVA_HOME_CONDA_BACKUP=\" \n",
      "\n",
      "C:\\Users\\Martin\\Documents\\GitHub\\pyimagej-julab\\notebooks>set \"JAVA_HOME=C:\\Users\\Martin\\Miniconda3\\envs\\jl-pyij\\Library\" \n"
     ]
    }
   ],
   "source": [
    "import sys, os\n",
    "!mamba install --yes --prefix {sys.prefix} pyimagej openjdk=8\n",
    "os.environ['JAVA_HOME'] = os.sep.join(sys.executable.split(os.sep)[:-2] + ['jre'])"
   ]
  },
  {
   "cell_type": "code",
   "execution_count": 3,
   "id": "9c61176e-b5a7-43d3-a8f7-2b601b2f648d",
   "metadata": {},
   "outputs": [],
   "source": [
    "import imagej\n",
    "import scyjava\n",
    "scyjava.config.add_option('-Xmx6g')"
   ]
  },
  {
   "cell_type": "code",
   "execution_count": 4,
   "id": "a8f4c61d-510b-4b67-a4c7-48fd4bc1d315",
   "metadata": {},
   "outputs": [
    {
     "ename": "JVMNotFoundException",
     "evalue": "No JVM shared library file (jvm.dll) found. Try setting up the JAVA_HOME environment variable properly.",
     "output_type": "error",
     "traceback": [
      "\u001b[1;31m---------------------------------------------------------------------------\u001b[0m",
      "\u001b[1;31mJVMNotFoundException\u001b[0m                      Traceback (most recent call last)",
      "Input \u001b[1;32mIn [4]\u001b[0m, in \u001b[0;36m<cell line: 1>\u001b[1;34m()\u001b[0m\n\u001b[1;32m----> 1\u001b[0m ij \u001b[38;5;241m=\u001b[39m \u001b[43mimagej\u001b[49m\u001b[38;5;241;43m.\u001b[39;49m\u001b[43minit\u001b[49m\u001b[43m(\u001b[49m\u001b[43m)\u001b[49m\n",
      "File \u001b[1;32m~\\Miniconda3\\envs\\jl-pyij\\lib\\site-packages\\imagej\\__init__.py:1191\u001b[0m, in \u001b[0;36minit\u001b[1;34m(ij_dir_or_version_or_endpoint, mode, add_legacy, headless)\u001b[0m\n\u001b[0;32m   1188\u001b[0m     \u001b[38;5;28;01mraise\u001b[39;00m \u001b[38;5;167;01mEnvironmentError\u001b[39;00m(\u001b[38;5;124m\"\u001b[39m\u001b[38;5;124mSorry, the interactive mode is not available on macOS.\u001b[39m\u001b[38;5;124m\"\u001b[39m)\n\u001b[0;32m   1190\u001b[0m \u001b[38;5;28;01mif\u001b[39;00m \u001b[38;5;129;01mnot\u001b[39;00m sj\u001b[38;5;241m.\u001b[39mjvm_started():\n\u001b[1;32m-> 1191\u001b[0m     success \u001b[38;5;241m=\u001b[39m \u001b[43m_create_jvm\u001b[49m\u001b[43m(\u001b[49m\u001b[43mij_dir_or_version_or_endpoint\u001b[49m\u001b[43m,\u001b[49m\u001b[43m \u001b[49m\u001b[43mmode\u001b[49m\u001b[43m,\u001b[49m\u001b[43m \u001b[49m\u001b[43madd_legacy\u001b[49m\u001b[43m)\u001b[49m\n\u001b[0;32m   1192\u001b[0m     \u001b[38;5;28;01mif\u001b[39;00m \u001b[38;5;129;01mnot\u001b[39;00m success:\n\u001b[0;32m   1193\u001b[0m         \u001b[38;5;28;01mraise\u001b[39;00m \u001b[38;5;167;01mRuntimeError\u001b[39;00m(\u001b[38;5;124m\"\u001b[39m\u001b[38;5;124mFailed to create a JVM with the requested environment.\u001b[39m\u001b[38;5;124m\"\u001b[39m)\n",
      "File \u001b[1;32m~\\Miniconda3\\envs\\jl-pyij\\lib\\site-packages\\imagej\\__init__.py:1304\u001b[0m, in \u001b[0;36m_create_jvm\u001b[1;34m(ij_dir_or_version_or_endpoint, mode, add_legacy)\u001b[0m\n\u001b[0;32m   1302\u001b[0m     sj\u001b[38;5;241m.\u001b[39mconfig\u001b[38;5;241m.\u001b[39madd_option(\u001b[38;5;124m\"\u001b[39m\u001b[38;5;124m-Djava.awt.headless=true\u001b[39m\u001b[38;5;124m\"\u001b[39m)\n\u001b[0;32m   1303\u001b[0m \u001b[38;5;28;01mtry\u001b[39;00m:\n\u001b[1;32m-> 1304\u001b[0m     \u001b[38;5;28;01mif\u001b[39;00m \u001b[38;5;28mhasattr\u001b[39m(sj, \u001b[38;5;124m\"\u001b[39m\u001b[38;5;124mjvm_version\u001b[39m\u001b[38;5;124m\"\u001b[39m) \u001b[38;5;129;01mand\u001b[39;00m \u001b[43msj\u001b[49m\u001b[38;5;241;43m.\u001b[39;49m\u001b[43mjvm_version\u001b[49m\u001b[43m(\u001b[49m\u001b[43m)\u001b[49m[\u001b[38;5;241m0\u001b[39m] \u001b[38;5;241m>\u001b[39m\u001b[38;5;241m=\u001b[39m \u001b[38;5;241m9\u001b[39m:\n\u001b[0;32m   1305\u001b[0m         \u001b[38;5;66;03m# Disable illegal reflection access warnings.\u001b[39;00m\n\u001b[0;32m   1306\u001b[0m         sj\u001b[38;5;241m.\u001b[39mconfig\u001b[38;5;241m.\u001b[39madd_option(\u001b[38;5;124m\"\u001b[39m\u001b[38;5;124m--add-opens=java.base/java.lang=ALL-UNNAMED\u001b[39m\u001b[38;5;124m\"\u001b[39m)\n\u001b[0;32m   1307\u001b[0m         sj\u001b[38;5;241m.\u001b[39mconfig\u001b[38;5;241m.\u001b[39madd_option(\u001b[38;5;124m\"\u001b[39m\u001b[38;5;124m--add-opens=java.base/java.util=ALL-UNNAMED\u001b[39m\u001b[38;5;124m\"\u001b[39m)\n",
      "File \u001b[1;32m~\\Miniconda3\\envs\\jl-pyij\\lib\\site-packages\\scyjava\\_java.py:114\u001b[0m, in \u001b[0;36mjvm_version\u001b[1;34m()\u001b[0m\n\u001b[0;32m    108\u001b[0m     \u001b[38;5;28;01mreturn\u001b[39;00m jvm_version\n\u001b[0;32m    110\u001b[0m \u001b[38;5;66;03m# JPype was clueless, which means the JVM has probably not started yet.\u001b[39;00m\n\u001b[0;32m    111\u001b[0m \u001b[38;5;66;03m# Let's look for a java executable, and ask it directly with 'java\u001b[39;00m\n\u001b[0;32m    112\u001b[0m \u001b[38;5;66;03m# -version'.\u001b[39;00m\n\u001b[1;32m--> 114\u001b[0m default_jvm_path \u001b[38;5;241m=\u001b[39m \u001b[43mjpype\u001b[49m\u001b[38;5;241;43m.\u001b[39;49m\u001b[43mgetDefaultJVMPath\u001b[49m\u001b[43m(\u001b[49m\u001b[43m)\u001b[49m\n\u001b[0;32m    115\u001b[0m \u001b[38;5;28;01mif\u001b[39;00m \u001b[38;5;129;01mnot\u001b[39;00m default_jvm_path:\n\u001b[0;32m    116\u001b[0m     \u001b[38;5;28;01mraise\u001b[39;00m \u001b[38;5;167;01mRuntimeError\u001b[39;00m(\u001b[38;5;124m\"\u001b[39m\u001b[38;5;124mCannot glean the default JVM path\u001b[39m\u001b[38;5;124m\"\u001b[39m)\n",
      "File \u001b[1;32m~\\Miniconda3\\envs\\jl-pyij\\lib\\site-packages\\jpype\\_jvmfinder.py:74\u001b[0m, in \u001b[0;36mgetDefaultJVMPath\u001b[1;34m()\u001b[0m\n\u001b[0;32m     72\u001b[0m \u001b[38;5;28;01melse\u001b[39;00m:\n\u001b[0;32m     73\u001b[0m     finder \u001b[38;5;241m=\u001b[39m LinuxJVMFinder()\n\u001b[1;32m---> 74\u001b[0m \u001b[38;5;28;01mreturn\u001b[39;00m \u001b[43mfinder\u001b[49m\u001b[38;5;241;43m.\u001b[39;49m\u001b[43mget_jvm_path\u001b[49m\u001b[43m(\u001b[49m\u001b[43m)\u001b[49m\n",
      "File \u001b[1;32m~\\Miniconda3\\envs\\jl-pyij\\lib\\site-packages\\jpype\\_jvmfinder.py:212\u001b[0m, in \u001b[0;36mJVMFinder.get_jvm_path\u001b[1;34m(self)\u001b[0m\n\u001b[0;32m    210\u001b[0m \u001b[38;5;28;01mif\u001b[39;00m jvm_notsupport_ext \u001b[38;5;129;01mis\u001b[39;00m \u001b[38;5;129;01mnot\u001b[39;00m \u001b[38;5;28;01mNone\u001b[39;00m:\n\u001b[0;32m    211\u001b[0m     \u001b[38;5;28;01mraise\u001b[39;00m jvm_notsupport_ext\n\u001b[1;32m--> 212\u001b[0m \u001b[38;5;28;01mraise\u001b[39;00m JVMNotFoundException(\u001b[38;5;124m\"\u001b[39m\u001b[38;5;124mNo JVM shared library file (\u001b[39m\u001b[38;5;132;01m{0}\u001b[39;00m\u001b[38;5;124m) \u001b[39m\u001b[38;5;124m\"\u001b[39m\n\u001b[0;32m    213\u001b[0m                            \u001b[38;5;124m\"\u001b[39m\u001b[38;5;124mfound. Try setting up the JAVA_HOME \u001b[39m\u001b[38;5;124m\"\u001b[39m\n\u001b[0;32m    214\u001b[0m                            \u001b[38;5;124m\"\u001b[39m\u001b[38;5;124menvironment variable properly.\u001b[39m\u001b[38;5;124m\"\u001b[39m\n\u001b[0;32m    215\u001b[0m                            \u001b[38;5;241m.\u001b[39mformat(\u001b[38;5;28mself\u001b[39m\u001b[38;5;241m.\u001b[39m_libfile))\n",
      "\u001b[1;31mJVMNotFoundException\u001b[0m: No JVM shared library file (jvm.dll) found. Try setting up the JAVA_HOME environment variable properly."
     ]
    }
   ],
   "source": [
    "ij = imagej.init()"
   ]
  },
  {
   "cell_type": "code",
   "execution_count": 3,
   "id": "c649b1c0-9a71-4e2c-be7a-b5bd8d6d2531",
   "metadata": {},
   "outputs": [
    {
     "ename": "NameError",
     "evalue": "name 'ij' is not defined",
     "output_type": "error",
     "traceback": [
      "\u001b[1;31m---------------------------------------------------------------------------\u001b[0m",
      "\u001b[1;31mNameError\u001b[0m                                 Traceback (most recent call last)",
      "Input \u001b[1;32mIn [3]\u001b[0m, in \u001b[0;36m<cell line: 1>\u001b[1;34m()\u001b[0m\n\u001b[1;32m----> 1\u001b[0m \u001b[43mij\u001b[49m\u001b[38;5;241m.\u001b[39mgetVersion()\n",
      "\u001b[1;31mNameError\u001b[0m: name 'ij' is not defined"
     ]
    }
   ],
   "source": [
    "ij.getVersion()"
   ]
  },
  {
   "cell_type": "code",
   "execution_count": null,
   "id": "fad383d1-2897-43db-80b5-79702a14c2c5",
   "metadata": {},
   "outputs": [],
   "source": [
    "\n"
   ]
  }
 ],
 "metadata": {
  "kernelspec": {
   "display_name": "Python 3 (ipykernel)",
   "language": "python",
   "name": "python3"
  },
  "language_info": {
   "codemirror_mode": {
    "name": "ipython",
    "version": 3
   },
   "file_extension": ".py",
   "mimetype": "text/x-python",
   "name": "python",
   "nbconvert_exporter": "python",
   "pygments_lexer": "ipython3",
   "version": "3.8.13"
  }
 },
 "nbformat": 4,
 "nbformat_minor": 5
}
